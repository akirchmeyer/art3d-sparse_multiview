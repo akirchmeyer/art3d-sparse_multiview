{
 "cells": [
  {
   "cell_type": "code",
   "execution_count": 2,
   "id": "7fc28e56",
   "metadata": {},
   "outputs": [],
   "source": [
    "from lavis.models import load_model_and_preprocess\n",
    "import torch\n",
    "import os\n",
    "from PIL import Image\n",
    "import matplotlib.pyplot as plt\n",
    "from os import listdir\n",
    "from os.path import isfile, join\n",
    "import cv2\n",
    "import pandas as pd\n",
    "\n",
    "torch_dtype = torch.float32\n",
    "# torch_dtype = torch.float16\n",
    "# load the BLIP model\n",
    "model_blip, vis_processors, _ = load_model_and_preprocess(name=\"blip_caption\", model_type=\"base_coco\", is_eval=True, device=torch.device(\"cuda\"))"
   ]
  },
  {
   "cell_type": "code",
   "execution_count": 3,
   "id": "c7fd60b7",
   "metadata": {},
   "outputs": [
    {
     "name": "stderr",
     "output_type": "stream",
     "text": [
      "dog: 100%|█████████████████████████████████████████████████████████████████████████████████████████████████████████████████████████████████████████| 2000/2000 [05:06<00:00,  6.53it/s]\n"
     ]
    }
   ],
   "source": [
    "data_path = '/grogu/user/akirchme/art3d_sd_webui'\n",
    "cls = 'dog'\n",
    "from tqdm import tqdm \n",
    "\n",
    "files = sorted([f for f in listdir(f'{data_path}/fg/{cls}') if isfile(join(f'{data_path}/fg/{cls}', f))])\n",
    "\n",
    "output_dir = '/grogu/user/akirchme/art3d_sd_webui/prompt'\n",
    "os.makedirs(f'{output_dir}/fg/{cls}', exist_ok=True)\n",
    "os.makedirs(f'{output_dir}/images/{cls}', exist_ok=True)\n",
    "\n",
    "for file in tqdm(files[::-1], desc=cls):\n",
    "    file_id = file.split('.')[0]\n",
    "    for folder in ['images', 'fg']:\n",
    "        out_file = f'{output_dir}/{folder}/{cls}/{file_id}.txt'\n",
    "        if os.path.exists(out_file):\n",
    "            continue\n",
    "        img_path = f'{data_path}/{folder}/{cls}/{file_id}.png'\n",
    "        img = Image.open(img_path).resize((512,512), Image.Resampling.LANCZOS)\n",
    "        _image = vis_processors[\"eval\"](img).unsqueeze(0).cuda()\n",
    "        prompt_str = model_blip.generate({\"image\": _image})[0]\n",
    "        with open(out_file, \"w\") as f:\n",
    "            f.write(prompt_str)"
   ]
  },
  {
   "cell_type": "code",
   "execution_count": 5,
   "id": "76002e37",
   "metadata": {},
   "outputs": [
    {
     "data": {
      "text/plain": [
       "\"a close up of a dog's face with blue eyes\""
      ]
     },
     "execution_count": 5,
     "metadata": {},
     "output_type": "execute_result"
    }
   ],
   "source": [
    "open(f'{output_dir}/{folder}/{cls}/0.txt').read()"
   ]
  }
 ],
 "metadata": {
  "kernelspec": {
   "display_name": "Python 3 (ipykernel)",
   "language": "python",
   "name": "python3"
  },
  "language_info": {
   "codemirror_mode": {
    "name": "ipython",
    "version": 3
   },
   "file_extension": ".py",
   "mimetype": "text/x-python",
   "name": "python",
   "nbconvert_exporter": "python",
   "pygments_lexer": "ipython3",
   "version": "3.10.8"
  }
 },
 "nbformat": 4,
 "nbformat_minor": 5
}
