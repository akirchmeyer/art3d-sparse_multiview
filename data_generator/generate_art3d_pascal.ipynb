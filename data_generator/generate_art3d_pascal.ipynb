{
 "cells": [
  {
   "cell_type": "markdown",
   "id": "fd8a951f",
   "metadata": {},
   "source": [
    "# Pascal Parts"
   ]
  },
  {
   "cell_type": "code",
   "execution_count": 2,
   "id": "f0d6733d",
   "metadata": {},
   "outputs": [
    {
     "name": "stderr",
     "output_type": "stream",
     "text": [
      "100%|█████████████████████████████████████████████████████████████████████████████| 10103/10103 [04:10<00:00, 40.28it/s]\n"
     ]
    }
   ],
   "source": [
    "import sys\n",
    "sys.path.append('/home/akirchme/packages/pascal-part-py')\n",
    "import os\n",
    "import numpy as np\n",
    "import matplotlib.pylab as plt\n",
    "from skimage.io import imread\n",
    "from tqdm import tqdm\n",
    "\n",
    "from VOClabelcolormap import color_map\n",
    "from anno import ImageAnnotation\n",
    "\n",
    "from os import listdir\n",
    "from os.path import isfile, join\n",
    "import cv2\n",
    "\n",
    "pascal_dir = '/home/akirchme/data/VOC2010'\n",
    "pascal_annot_dir = f'{pascal_dir}/Annotations_Part'\n",
    "pascal_img_dir = f'{pascal_dir}/JPEGImages'\n",
    "annotations = [f for f in listdir(pascal_annot_dir) if isfile(join(f'{pascal_annot_dir}', f))]\n",
    "\n",
    "output_dir = '/grogu/user/akirchme/art3d_pascal'\n",
    "classes = ['horse', 'car', 'dog', 'bird']\n",
    "min_size = 128\n",
    "\n",
    "for cls in classes:\n",
    "    os.makedirs(f'{output_dir}/images/{cls}', exist_ok=True)\n",
    "    os.makedirs(f'{output_dir}/fg/{cls}', exist_ok=True)\n",
    "    os.makedirs(f'{output_dir}/masks/{cls}', exist_ok=True)\n",
    "    \n",
    "#class_imgs = {cls:[] for cls in classes}\n",
    "class_imgs = {cls:0 for cls in classes}\n",
    "\n",
    "for img_id in tqdm(annotations):\n",
    "    img_fn = img_id.split('.')[0]\n",
    "    annot = ImageAnnotation(f'{pascal_img_dir}/{img_fn}.jpg', f'{pascal_annot_dir}/{img_fn}.mat')\n",
    "    for obj in annot.objects:\n",
    "        cls = obj.class_name\n",
    "        if cls in classes:\n",
    "            mask = obj.mask == 1\n",
    "            if mask.sum() >= min_size*min_size:\n",
    "                image = np.copy(annot.im)\n",
    "                i = class_imgs[cls]\n",
    "                cv2.imwrite(f'{output_dir}/images/{cls}/{i}.png', cv2.cvtColor(image, cv2.COLOR_RGB2BGR))\n",
    "                image[mask == 0] = 0\n",
    "                cv2.imwrite(f'{output_dir}/fg/{cls}/{i}.png', cv2.cvtColor(image, cv2.COLOR_RGB2BGR))\n",
    "                np.save(f'{output_dir}/masks/{cls}/{i}.npy', mask)\n",
    "                class_imgs[cls] += 1\n",
    "                #class_imgs[cls].append(img)"
   ]
  }
 ],
 "metadata": {
  "kernelspec": {
   "display_name": "Python 3 (ipykernel)",
   "language": "python",
   "name": "python3"
  },
  "language_info": {
   "codemirror_mode": {
    "name": "ipython",
    "version": 3
   },
   "file_extension": ".py",
   "mimetype": "text/x-python",
   "name": "python",
   "nbconvert_exporter": "python",
   "pygments_lexer": "ipython3",
   "version": "3.10.8"
  }
 },
 "nbformat": 4,
 "nbformat_minor": 5
}
